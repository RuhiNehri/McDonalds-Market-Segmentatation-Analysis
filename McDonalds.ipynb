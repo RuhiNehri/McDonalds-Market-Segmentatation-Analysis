{
 "cells": [
  {
   "cell_type": "code",
   "execution_count": 1,
   "id": "1556945f-0787-426f-978d-b46a5cfbe5b9",
   "metadata": {},
   "outputs": [],
   "source": [
    "# importing libraries"
   ]
  },
  {
   "cell_type": "code",
   "execution_count": 2,
   "id": "319fc0e0-f341-40a2-8f6c-dbd305f5250d",
   "metadata": {},
   "outputs": [],
   "source": [
    "import numpy as np\n",
    "import pandas as pd\n",
    "import matplotlib.pyplot as plt\n",
    "import seaborn as sns\n",
    "import warnings\n",
    "warnings.filterwarnings('ignore')"
   ]
  },
  {
   "cell_type": "code",
   "execution_count": 3,
   "id": "9a7de9e1-3305-491f-903e-a42cbe945537",
   "metadata": {},
   "outputs": [
    {
     "data": {
      "text/html": [
       "<div>\n",
       "<style scoped>\n",
       "    .dataframe tbody tr th:only-of-type {\n",
       "        vertical-align: middle;\n",
       "    }\n",
       "\n",
       "    .dataframe tbody tr th {\n",
       "        vertical-align: top;\n",
       "    }\n",
       "\n",
       "    .dataframe thead th {\n",
       "        text-align: right;\n",
       "    }\n",
       "</style>\n",
       "<table border=\"1\" class=\"dataframe\">\n",
       "  <thead>\n",
       "    <tr style=\"text-align: right;\">\n",
       "      <th></th>\n",
       "      <th>yummy</th>\n",
       "      <th>convenient</th>\n",
       "      <th>spicy</th>\n",
       "      <th>fattening</th>\n",
       "      <th>greasy</th>\n",
       "      <th>fast</th>\n",
       "      <th>cheap</th>\n",
       "      <th>tasty</th>\n",
       "      <th>expensive</th>\n",
       "      <th>healthy</th>\n",
       "      <th>disgusting</th>\n",
       "      <th>Like</th>\n",
       "      <th>Age</th>\n",
       "      <th>VisitFrequency</th>\n",
       "      <th>Gender</th>\n",
       "    </tr>\n",
       "  </thead>\n",
       "  <tbody>\n",
       "    <tr>\n",
       "      <th>0</th>\n",
       "      <td>No</td>\n",
       "      <td>Yes</td>\n",
       "      <td>No</td>\n",
       "      <td>Yes</td>\n",
       "      <td>No</td>\n",
       "      <td>Yes</td>\n",
       "      <td>Yes</td>\n",
       "      <td>No</td>\n",
       "      <td>Yes</td>\n",
       "      <td>No</td>\n",
       "      <td>No</td>\n",
       "      <td>-3</td>\n",
       "      <td>61</td>\n",
       "      <td>Every three months</td>\n",
       "      <td>Female</td>\n",
       "    </tr>\n",
       "    <tr>\n",
       "      <th>1</th>\n",
       "      <td>Yes</td>\n",
       "      <td>Yes</td>\n",
       "      <td>No</td>\n",
       "      <td>Yes</td>\n",
       "      <td>Yes</td>\n",
       "      <td>Yes</td>\n",
       "      <td>Yes</td>\n",
       "      <td>Yes</td>\n",
       "      <td>Yes</td>\n",
       "      <td>No</td>\n",
       "      <td>No</td>\n",
       "      <td>+2</td>\n",
       "      <td>51</td>\n",
       "      <td>Every three months</td>\n",
       "      <td>Female</td>\n",
       "    </tr>\n",
       "    <tr>\n",
       "      <th>2</th>\n",
       "      <td>No</td>\n",
       "      <td>Yes</td>\n",
       "      <td>Yes</td>\n",
       "      <td>Yes</td>\n",
       "      <td>Yes</td>\n",
       "      <td>Yes</td>\n",
       "      <td>No</td>\n",
       "      <td>Yes</td>\n",
       "      <td>Yes</td>\n",
       "      <td>Yes</td>\n",
       "      <td>No</td>\n",
       "      <td>+1</td>\n",
       "      <td>62</td>\n",
       "      <td>Every three months</td>\n",
       "      <td>Female</td>\n",
       "    </tr>\n",
       "    <tr>\n",
       "      <th>3</th>\n",
       "      <td>Yes</td>\n",
       "      <td>Yes</td>\n",
       "      <td>No</td>\n",
       "      <td>Yes</td>\n",
       "      <td>Yes</td>\n",
       "      <td>Yes</td>\n",
       "      <td>Yes</td>\n",
       "      <td>Yes</td>\n",
       "      <td>No</td>\n",
       "      <td>No</td>\n",
       "      <td>Yes</td>\n",
       "      <td>+4</td>\n",
       "      <td>69</td>\n",
       "      <td>Once a week</td>\n",
       "      <td>Female</td>\n",
       "    </tr>\n",
       "    <tr>\n",
       "      <th>4</th>\n",
       "      <td>No</td>\n",
       "      <td>Yes</td>\n",
       "      <td>No</td>\n",
       "      <td>Yes</td>\n",
       "      <td>Yes</td>\n",
       "      <td>Yes</td>\n",
       "      <td>Yes</td>\n",
       "      <td>No</td>\n",
       "      <td>No</td>\n",
       "      <td>Yes</td>\n",
       "      <td>No</td>\n",
       "      <td>+2</td>\n",
       "      <td>49</td>\n",
       "      <td>Once a month</td>\n",
       "      <td>Male</td>\n",
       "    </tr>\n",
       "  </tbody>\n",
       "</table>\n",
       "</div>"
      ],
      "text/plain": [
       "  yummy convenient spicy fattening greasy fast cheap tasty expensive healthy  \\\n",
       "0    No        Yes    No       Yes     No  Yes   Yes    No       Yes      No   \n",
       "1   Yes        Yes    No       Yes    Yes  Yes   Yes   Yes       Yes      No   \n",
       "2    No        Yes   Yes       Yes    Yes  Yes    No   Yes       Yes     Yes   \n",
       "3   Yes        Yes    No       Yes    Yes  Yes   Yes   Yes        No      No   \n",
       "4    No        Yes    No       Yes    Yes  Yes   Yes    No        No     Yes   \n",
       "\n",
       "  disgusting Like  Age      VisitFrequency  Gender  \n",
       "0         No   -3   61  Every three months  Female  \n",
       "1         No   +2   51  Every three months  Female  \n",
       "2         No   +1   62  Every three months  Female  \n",
       "3        Yes   +4   69         Once a week  Female  \n",
       "4         No   +2   49        Once a month    Male  "
      ]
     },
     "execution_count": 3,
     "metadata": {},
     "output_type": "execute_result"
    }
   ],
   "source": [
    "df = pd.read_csv(\"mcdonalds.csv\")\n",
    "df.head()"
   ]
  },
  {
   "cell_type": "code",
   "execution_count": 4,
   "id": "a2d6774e-8afe-44fb-8848-c4ce6da70511",
   "metadata": {},
   "outputs": [
    {
     "name": "stdout",
     "output_type": "stream",
     "text": [
      "<class 'pandas.core.frame.DataFrame'>\n",
      "RangeIndex: 1453 entries, 0 to 1452\n",
      "Data columns (total 15 columns):\n",
      " #   Column          Non-Null Count  Dtype \n",
      "---  ------          --------------  ----- \n",
      " 0   yummy           1453 non-null   object\n",
      " 1   convenient      1453 non-null   object\n",
      " 2   spicy           1453 non-null   object\n",
      " 3   fattening       1453 non-null   object\n",
      " 4   greasy          1453 non-null   object\n",
      " 5   fast            1453 non-null   object\n",
      " 6   cheap           1453 non-null   object\n",
      " 7   tasty           1453 non-null   object\n",
      " 8   expensive       1453 non-null   object\n",
      " 9   healthy         1453 non-null   object\n",
      " 10  disgusting      1453 non-null   object\n",
      " 11  Like            1453 non-null   object\n",
      " 12  Age             1453 non-null   int64 \n",
      " 13  VisitFrequency  1453 non-null   object\n",
      " 14  Gender          1453 non-null   object\n",
      "dtypes: int64(1), object(14)\n",
      "memory usage: 170.4+ KB\n"
     ]
    }
   ],
   "source": [
    "df.info()"
   ]
  },
  {
   "cell_type": "code",
   "execution_count": 5,
   "id": "e31c6289-2380-4d07-b857-a400ad81a229",
   "metadata": {},
   "outputs": [
    {
     "data": {
      "text/plain": [
       "(1453, 15)"
      ]
     },
     "execution_count": 5,
     "metadata": {},
     "output_type": "execute_result"
    }
   ],
   "source": [
    "df.shape"
   ]
  },
  {
   "cell_type": "code",
   "execution_count": 6,
   "id": "e4aa53f2-967c-4a36-91c4-1feefef29a63",
   "metadata": {},
   "outputs": [
    {
     "data": {
      "text/plain": [
       "yummy             0\n",
       "convenient        0\n",
       "spicy             0\n",
       "fattening         0\n",
       "greasy            0\n",
       "fast              0\n",
       "cheap             0\n",
       "tasty             0\n",
       "expensive         0\n",
       "healthy           0\n",
       "disgusting        0\n",
       "Like              0\n",
       "Age               0\n",
       "VisitFrequency    0\n",
       "Gender            0\n",
       "dtype: int64"
      ]
     },
     "execution_count": 6,
     "metadata": {},
     "output_type": "execute_result"
    }
   ],
   "source": [
    "df.isna().sum()"
   ]
  },
  {
   "cell_type": "code",
   "execution_count": 7,
   "id": "e849c024-ce32-463f-bfa2-4ff6c75cf660",
   "metadata": {},
   "outputs": [
    {
     "data": {
      "text/plain": [
       "Female    788\n",
       "Male      665\n",
       "Name: Gender, dtype: int64"
      ]
     },
     "execution_count": 7,
     "metadata": {},
     "output_type": "execute_result"
    }
   ],
   "source": [
    "# calculating count of variables\n",
    "df['Gender'].value_counts()"
   ]
  },
  {
   "cell_type": "code",
   "execution_count": 8,
   "id": "7e3b9aa4-b2a5-4e31-b3a9-5aa758ecc8ab",
   "metadata": {},
   "outputs": [
    {
     "data": {
      "text/plain": [
       "Once a month             439\n",
       "Every three months       342\n",
       "Once a year              252\n",
       "Once a week              235\n",
       "Never                    131\n",
       "More than once a week     54\n",
       "Name: VisitFrequency, dtype: int64"
      ]
     },
     "execution_count": 8,
     "metadata": {},
     "output_type": "execute_result"
    }
   ],
   "source": [
    "df['VisitFrequency'].value_counts()"
   ]
  },
  {
   "cell_type": "code",
   "execution_count": 9,
   "id": "d821609a-274a-4145-99de-1dcb8c02d781",
   "metadata": {},
   "outputs": [
    {
     "data": {
      "text/plain": [
       "+3              229\n",
       "+2              187\n",
       "0               169\n",
       "+4              160\n",
       "I hate it!-5    152\n",
       "+1              152\n",
       "I love it!+5    143\n",
       "-3               73\n",
       "-4               71\n",
       "-2               59\n",
       "-1               58\n",
       "Name: Like, dtype: int64"
      ]
     },
     "execution_count": 9,
     "metadata": {},
     "output_type": "execute_result"
    }
   ],
   "source": [
    "df['Like'].value_counts()"
   ]
  },
  {
   "cell_type": "markdown",
   "id": "11c53be0-88e8-4869-82da-902debf1c59b",
   "metadata": {},
   "source": [
    "# Exploring Data"
   ]
  },
  {
   "cell_type": "code",
   "execution_count": 10,
   "id": "151bfb7c-c4b4-41fa-8a40-6edf3c28f6a6",
   "metadata": {},
   "outputs": [],
   "source": [
    "# Customer Segmentation based on Age and Gender(Sociodemographic Segmentation)"
   ]
  },
  {
   "cell_type": "code",
   "execution_count": 11,
   "id": "cbb24459-74e1-4862-ba9e-070089704217",
   "metadata": {},
   "outputs": [
    {
     "data": {
      "image/png": "[encoded data removed]",
      "text/plain": [
       "<Figure size 432x288 with 1 Axes>"
      ]
     },
     "metadata": {},
     "output_type": "display_data"
    }
   ],
   "source": [
    "# Gender based Segmentation\n",
    "\n",
    "label = ['Male', 'Female']\n",
    "size = df['Gender'].value_counts()\n",
    "explode = [0,0.1]\n",
    "\n",
    "plt.pie(size,labels=label,explode = explode,autopct='%.2f%%')\n",
    "plt.title('Gender based Segmentation', fontsize =15)\n",
    "plt.show()\n",
    "\n"
   ]
  },
  {
   "cell_type": "code",
   "execution_count": 12,
   "id": "6f7c7e1b-e5ac-4acb-91ab-2f31b0e22219",
   "metadata": {},
   "outputs": [
    {
     "data": {
      "text/plain": [
       "Text(0.5, 1.0, 'Age based segmentation')"
      ]
     },
     "execution_count": 12,
     "metadata": {},
     "output_type": "execute_result"
    },
    {
     "data": {
      "image/png": "[encoded data removed]",
      "text/plain": [
       "<Figure size 1080x432 with 1 Axes>"
      ]
     },
     "metadata": {
      "needs_background": "light"
     },
     "output_type": "display_data"
    }
   ],
   "source": [
    "# Age based Segmentation\n",
    "plt.figure(figsize=(15,6))\n",
    "a = sns.countplot(x = df['Age'])\n",
    "plt.title('Age based segmentation', fontsize=15)"
   ]
  },
  {
   "cell_type": "code",
   "execution_count": 13,
   "id": "843c3e3f-3840-4847-a7c3-b6b68389e4f5",
   "metadata": {},
   "outputs": [],
   "source": [
    "#Customer segmentation based on pyschographic segmentation"
   ]
  },
  {
   "cell_type": "code",
   "execution_count": 14,
   "id": "a250d497-d18b-4acf-b155-f13426febf7d",
   "metadata": {},
   "outputs": [
    {
     "data": {
      "text/plain": [
       "Text(0.5, 1.0, 'Liking of McDonalds')"
      ]
     },
     "execution_count": 14,
     "metadata": {},
     "output_type": "execute_result"
    },
    {
     "data": {
      "image/png": "[encoded data removed]",
      "text/plain": [
       "<Figure size 432x288 with 1 Axes>"
      ]
     },
     "metadata": {
      "needs_background": "light"
     },
     "output_type": "display_data"
    }
   ],
   "source": [
    "#replacing text in Like column with numbered values for convience\n",
    "df['Like'] = df['Like'].replace({'I hate it!-5': '-5','I love it!+5':'+5'})\n",
    "\n",
    "sns.barplot(x='Like', y='Age', data=df)\n",
    "plt.title('Liking of McDonalds')"
   ]
  },
  {
   "cell_type": "code",
   "execution_count": 15,
   "id": "f3443439-3b54-462e-93cb-ef81e30eb1b6",
   "metadata": {},
   "outputs": [],
   "source": [
    "# performing Label Encoding for categorical columns from 1 to 11\n",
    "from sklearn.preprocessing import LabelEncoder"
   ]
  },
  {
   "cell_type": "code",
   "execution_count": 16,
   "id": "d6106ddd-a09d-4abe-8c84-9fc954cde2d3",
   "metadata": {},
   "outputs": [
    {
     "data": {
      "text/html": [
       "<div>\n",
       "<style scoped>\n",
       "    .dataframe tbody tr th:only-of-type {\n",
       "        vertical-align: middle;\n",
       "    }\n",
       "\n",
       "    .dataframe tbody tr th {\n",
       "        vertical-align: top;\n",
       "    }\n",
       "\n",
       "    .dataframe thead th {\n",
       "        text-align: right;\n",
       "    }\n",
       "</style>\n",
       "<table border=\"1\" class=\"dataframe\">\n",
       "  <thead>\n",
       "    <tr style=\"text-align: right;\">\n",
       "      <th></th>\n",
       "      <th>yummy</th>\n",
       "      <th>convenient</th>\n",
       "      <th>spicy</th>\n",
       "      <th>fattening</th>\n",
       "      <th>greasy</th>\n",
       "      <th>fast</th>\n",
       "      <th>cheap</th>\n",
       "      <th>tasty</th>\n",
       "      <th>expensive</th>\n",
       "      <th>healthy</th>\n",
       "      <th>disgusting</th>\n",
       "    </tr>\n",
       "  </thead>\n",
       "  <tbody>\n",
       "    <tr>\n",
       "      <th>0</th>\n",
       "      <td>No</td>\n",
       "      <td>Yes</td>\n",
       "      <td>No</td>\n",
       "      <td>Yes</td>\n",
       "      <td>No</td>\n",
       "      <td>Yes</td>\n",
       "      <td>Yes</td>\n",
       "      <td>No</td>\n",
       "      <td>Yes</td>\n",
       "      <td>No</td>\n",
       "      <td>No</td>\n",
       "    </tr>\n",
       "    <tr>\n",
       "      <th>1</th>\n",
       "      <td>Yes</td>\n",
       "      <td>Yes</td>\n",
       "      <td>No</td>\n",
       "      <td>Yes</td>\n",
       "      <td>Yes</td>\n",
       "      <td>Yes</td>\n",
       "      <td>Yes</td>\n",
       "      <td>Yes</td>\n",
       "      <td>Yes</td>\n",
       "      <td>No</td>\n",
       "      <td>No</td>\n",
       "    </tr>\n",
       "    <tr>\n",
       "      <th>2</th>\n",
       "      <td>No</td>\n",
       "      <td>Yes</td>\n",
       "      <td>Yes</td>\n",
       "      <td>Yes</td>\n",
       "      <td>Yes</td>\n",
       "      <td>Yes</td>\n",
       "      <td>No</td>\n",
       "      <td>Yes</td>\n",
       "      <td>Yes</td>\n",
       "      <td>Yes</td>\n",
       "      <td>No</td>\n",
       "    </tr>\n",
       "    <tr>\n",
       "      <th>3</th>\n",
       "      <td>Yes</td>\n",
       "      <td>Yes</td>\n",
       "      <td>No</td>\n",
       "      <td>Yes</td>\n",
       "      <td>Yes</td>\n",
       "      <td>Yes</td>\n",
       "      <td>Yes</td>\n",
       "      <td>Yes</td>\n",
       "      <td>No</td>\n",
       "      <td>No</td>\n",
       "      <td>Yes</td>\n",
       "    </tr>\n",
       "    <tr>\n",
       "      <th>4</th>\n",
       "      <td>No</td>\n",
       "      <td>Yes</td>\n",
       "      <td>No</td>\n",
       "      <td>Yes</td>\n",
       "      <td>Yes</td>\n",
       "      <td>Yes</td>\n",
       "      <td>Yes</td>\n",
       "      <td>No</td>\n",
       "      <td>No</td>\n",
       "      <td>Yes</td>\n",
       "      <td>No</td>\n",
       "    </tr>\n",
       "    <tr>\n",
       "      <th>...</th>\n",
       "      <td>...</td>\n",
       "      <td>...</td>\n",
       "      <td>...</td>\n",
       "      <td>...</td>\n",
       "      <td>...</td>\n",
       "      <td>...</td>\n",
       "      <td>...</td>\n",
       "      <td>...</td>\n",
       "      <td>...</td>\n",
       "      <td>...</td>\n",
       "      <td>...</td>\n",
       "    </tr>\n",
       "    <tr>\n",
       "      <th>1448</th>\n",
       "      <td>No</td>\n",
       "      <td>Yes</td>\n",
       "      <td>No</td>\n",
       "      <td>Yes</td>\n",
       "      <td>Yes</td>\n",
       "      <td>No</td>\n",
       "      <td>No</td>\n",
       "      <td>No</td>\n",
       "      <td>Yes</td>\n",
       "      <td>No</td>\n",
       "      <td>Yes</td>\n",
       "    </tr>\n",
       "    <tr>\n",
       "      <th>1449</th>\n",
       "      <td>Yes</td>\n",
       "      <td>Yes</td>\n",
       "      <td>No</td>\n",
       "      <td>Yes</td>\n",
       "      <td>No</td>\n",
       "      <td>No</td>\n",
       "      <td>Yes</td>\n",
       "      <td>Yes</td>\n",
       "      <td>No</td>\n",
       "      <td>Yes</td>\n",
       "      <td>No</td>\n",
       "    </tr>\n",
       "    <tr>\n",
       "      <th>1450</th>\n",
       "      <td>Yes</td>\n",
       "      <td>Yes</td>\n",
       "      <td>No</td>\n",
       "      <td>Yes</td>\n",
       "      <td>No</td>\n",
       "      <td>Yes</td>\n",
       "      <td>No</td>\n",
       "      <td>Yes</td>\n",
       "      <td>Yes</td>\n",
       "      <td>No</td>\n",
       "      <td>No</td>\n",
       "    </tr>\n",
       "    <tr>\n",
       "      <th>1451</th>\n",
       "      <td>Yes</td>\n",
       "      <td>Yes</td>\n",
       "      <td>No</td>\n",
       "      <td>No</td>\n",
       "      <td>No</td>\n",
       "      <td>Yes</td>\n",
       "      <td>Yes</td>\n",
       "      <td>Yes</td>\n",
       "      <td>No</td>\n",
       "      <td>Yes</td>\n",
       "      <td>No</td>\n",
       "    </tr>\n",
       "    <tr>\n",
       "      <th>1452</th>\n",
       "      <td>No</td>\n",
       "      <td>Yes</td>\n",
       "      <td>No</td>\n",
       "      <td>Yes</td>\n",
       "      <td>Yes</td>\n",
       "      <td>No</td>\n",
       "      <td>No</td>\n",
       "      <td>No</td>\n",
       "      <td>Yes</td>\n",
       "      <td>No</td>\n",
       "      <td>Yes</td>\n",
       "    </tr>\n",
       "  </tbody>\n",
       "</table>\n",
       "<p>1453 rows × 11 columns</p>\n",
       "</div>"
      ],
      "text/plain": [
       "     yummy convenient spicy fattening greasy fast cheap tasty expensive  \\\n",
       "0       No        Yes    No       Yes     No  Yes   Yes    No       Yes   \n",
       "1      Yes        Yes    No       Yes    Yes  Yes   Yes   Yes       Yes   \n",
       "2       No        Yes   Yes       Yes    Yes  Yes    No   Yes       Yes   \n",
       "3      Yes        Yes    No       Yes    Yes  Yes   Yes   Yes        No   \n",
       "4       No        Yes    No       Yes    Yes  Yes   Yes    No        No   \n",
       "...    ...        ...   ...       ...    ...  ...   ...   ...       ...   \n",
       "1448    No        Yes    No       Yes    Yes   No    No    No       Yes   \n",
       "1449   Yes        Yes    No       Yes     No   No   Yes   Yes        No   \n",
       "1450   Yes        Yes    No       Yes     No  Yes    No   Yes       Yes   \n",
       "1451   Yes        Yes    No        No     No  Yes   Yes   Yes        No   \n",
       "1452    No        Yes    No       Yes    Yes   No    No    No       Yes   \n",
       "\n",
       "     healthy disgusting  \n",
       "0         No         No  \n",
       "1         No         No  \n",
       "2        Yes         No  \n",
       "3         No        Yes  \n",
       "4        Yes         No  \n",
       "...      ...        ...  \n",
       "1448      No        Yes  \n",
       "1449     Yes         No  \n",
       "1450      No         No  \n",
       "1451     Yes         No  \n",
       "1452      No        Yes  \n",
       "\n",
       "[1453 rows x 11 columns]"
      ]
     },
     "execution_count": 16,
     "metadata": {},
     "output_type": "execute_result"
    }
   ],
   "source": [
    "df_cat = df.iloc[:,0:11]\n",
    "df_cat"
   ]
  },
  {
   "cell_type": "code",
   "execution_count": 25,
   "id": "e2e2bc9c-f783-485f-abaa-aa91e75f18c4",
   "metadata": {},
   "outputs": [
    {
     "data": {
      "text/html": [
       "<div>\n",
       "<style scoped>\n",
       "    .dataframe tbody tr th:only-of-type {\n",
       "        vertical-align: middle;\n",
       "    }\n",
       "\n",
       "    .dataframe tbody tr th {\n",
       "        vertical-align: top;\n",
       "    }\n",
       "\n",
       "    .dataframe thead th {\n",
       "        text-align: right;\n",
       "    }\n",
       "</style>\n",
       "<table border=\"1\" class=\"dataframe\">\n",
       "  <thead>\n",
       "    <tr style=\"text-align: right;\">\n",
       "      <th></th>\n",
       "      <th>yummy</th>\n",
       "      <th>convenient</th>\n",
       "      <th>spicy</th>\n",
       "      <th>fattening</th>\n",
       "      <th>greasy</th>\n",
       "      <th>fast</th>\n",
       "      <th>cheap</th>\n",
       "      <th>tasty</th>\n",
       "      <th>expensive</th>\n",
       "      <th>healthy</th>\n",
       "      <th>disgusting</th>\n",
       "      <th>Like</th>\n",
       "      <th>Age</th>\n",
       "      <th>VisitFrequency</th>\n",
       "      <th>Gender</th>\n",
       "    </tr>\n",
       "  </thead>\n",
       "  <tbody>\n",
       "    <tr>\n",
       "      <th>0</th>\n",
       "      <td>0</td>\n",
       "      <td>1</td>\n",
       "      <td>0</td>\n",
       "      <td>1</td>\n",
       "      <td>0</td>\n",
       "      <td>1</td>\n",
       "      <td>1</td>\n",
       "      <td>0</td>\n",
       "      <td>1</td>\n",
       "      <td>0</td>\n",
       "      <td>0</td>\n",
       "      <td>-3</td>\n",
       "      <td>61</td>\n",
       "      <td>Every three months</td>\n",
       "      <td>Female</td>\n",
       "    </tr>\n",
       "    <tr>\n",
       "      <th>1</th>\n",
       "      <td>1</td>\n",
       "      <td>1</td>\n",
       "      <td>0</td>\n",
       "      <td>1</td>\n",
       "      <td>1</td>\n",
       "      <td>1</td>\n",
       "      <td>1</td>\n",
       "      <td>1</td>\n",
       "      <td>1</td>\n",
       "      <td>0</td>\n",
       "      <td>0</td>\n",
       "      <td>+2</td>\n",
       "      <td>51</td>\n",
       "      <td>Every three months</td>\n",
       "      <td>Female</td>\n",
       "    </tr>\n",
       "    <tr>\n",
       "      <th>2</th>\n",
       "      <td>0</td>\n",
       "      <td>1</td>\n",
       "      <td>1</td>\n",
       "      <td>1</td>\n",
       "      <td>1</td>\n",
       "      <td>1</td>\n",
       "      <td>0</td>\n",
       "      <td>1</td>\n",
       "      <td>1</td>\n",
       "      <td>1</td>\n",
       "      <td>0</td>\n",
       "      <td>+1</td>\n",
       "      <td>62</td>\n",
       "      <td>Every three months</td>\n",
       "      <td>Female</td>\n",
       "    </tr>\n",
       "    <tr>\n",
       "      <th>3</th>\n",
       "      <td>1</td>\n",
       "      <td>1</td>\n",
       "      <td>0</td>\n",
       "      <td>1</td>\n",
       "      <td>1</td>\n",
       "      <td>1</td>\n",
       "      <td>1</td>\n",
       "      <td>1</td>\n",
       "      <td>0</td>\n",
       "      <td>0</td>\n",
       "      <td>1</td>\n",
       "      <td>+4</td>\n",
       "      <td>69</td>\n",
       "      <td>Once a week</td>\n",
       "      <td>Female</td>\n",
       "    </tr>\n",
       "    <tr>\n",
       "      <th>4</th>\n",
       "      <td>0</td>\n",
       "      <td>1</td>\n",
       "      <td>0</td>\n",
       "      <td>1</td>\n",
       "      <td>1</td>\n",
       "      <td>1</td>\n",
       "      <td>1</td>\n",
       "      <td>0</td>\n",
       "      <td>0</td>\n",
       "      <td>1</td>\n",
       "      <td>0</td>\n",
       "      <td>+2</td>\n",
       "      <td>49</td>\n",
       "      <td>Once a month</td>\n",
       "      <td>Male</td>\n",
       "    </tr>\n",
       "    <tr>\n",
       "      <th>...</th>\n",
       "      <td>...</td>\n",
       "      <td>...</td>\n",
       "      <td>...</td>\n",
       "      <td>...</td>\n",
       "      <td>...</td>\n",
       "      <td>...</td>\n",
       "      <td>...</td>\n",
       "      <td>...</td>\n",
       "      <td>...</td>\n",
       "      <td>...</td>\n",
       "      <td>...</td>\n",
       "      <td>...</td>\n",
       "      <td>...</td>\n",
       "      <td>...</td>\n",
       "      <td>...</td>\n",
       "    </tr>\n",
       "    <tr>\n",
       "      <th>1448</th>\n",
       "      <td>0</td>\n",
       "      <td>1</td>\n",
       "      <td>0</td>\n",
       "      <td>1</td>\n",
       "      <td>1</td>\n",
       "      <td>0</td>\n",
       "      <td>0</td>\n",
       "      <td>0</td>\n",
       "      <td>1</td>\n",
       "      <td>0</td>\n",
       "      <td>1</td>\n",
       "      <td>-5</td>\n",
       "      <td>47</td>\n",
       "      <td>Once a year</td>\n",
       "      <td>Male</td>\n",
       "    </tr>\n",
       "    <tr>\n",
       "      <th>1449</th>\n",
       "      <td>1</td>\n",
       "      <td>1</td>\n",
       "      <td>0</td>\n",
       "      <td>1</td>\n",
       "      <td>0</td>\n",
       "      <td>0</td>\n",
       "      <td>1</td>\n",
       "      <td>1</td>\n",
       "      <td>0</td>\n",
       "      <td>1</td>\n",
       "      <td>0</td>\n",
       "      <td>+2</td>\n",
       "      <td>36</td>\n",
       "      <td>Once a week</td>\n",
       "      <td>Female</td>\n",
       "    </tr>\n",
       "    <tr>\n",
       "      <th>1450</th>\n",
       "      <td>1</td>\n",
       "      <td>1</td>\n",
       "      <td>0</td>\n",
       "      <td>1</td>\n",
       "      <td>0</td>\n",
       "      <td>1</td>\n",
       "      <td>0</td>\n",
       "      <td>1</td>\n",
       "      <td>1</td>\n",
       "      <td>0</td>\n",
       "      <td>0</td>\n",
       "      <td>+3</td>\n",
       "      <td>52</td>\n",
       "      <td>Once a month</td>\n",
       "      <td>Female</td>\n",
       "    </tr>\n",
       "    <tr>\n",
       "      <th>1451</th>\n",
       "      <td>1</td>\n",
       "      <td>1</td>\n",
       "      <td>0</td>\n",
       "      <td>0</td>\n",
       "      <td>0</td>\n",
       "      <td>1</td>\n",
       "      <td>1</td>\n",
       "      <td>1</td>\n",
       "      <td>0</td>\n",
       "      <td>1</td>\n",
       "      <td>0</td>\n",
       "      <td>+4</td>\n",
       "      <td>41</td>\n",
       "      <td>Every three months</td>\n",
       "      <td>Male</td>\n",
       "    </tr>\n",
       "    <tr>\n",
       "      <th>1452</th>\n",
       "      <td>0</td>\n",
       "      <td>1</td>\n",
       "      <td>0</td>\n",
       "      <td>1</td>\n",
       "      <td>1</td>\n",
       "      <td>0</td>\n",
       "      <td>0</td>\n",
       "      <td>0</td>\n",
       "      <td>1</td>\n",
       "      <td>0</td>\n",
       "      <td>1</td>\n",
       "      <td>-3</td>\n",
       "      <td>30</td>\n",
       "      <td>Every three months</td>\n",
       "      <td>Male</td>\n",
       "    </tr>\n",
       "  </tbody>\n",
       "</table>\n",
       "<p>1453 rows × 15 columns</p>\n",
       "</div>"
      ],
      "text/plain": [
       "      yummy  convenient  spicy  fattening  greasy  fast  cheap  tasty  \\\n",
       "0         0           1      0          1       0     1      1      0   \n",
       "1         1           1      0          1       1     1      1      1   \n",
       "2         0           1      1          1       1     1      0      1   \n",
       "3         1           1      0          1       1     1      1      1   \n",
       "4         0           1      0          1       1     1      1      0   \n",
       "...     ...         ...    ...        ...     ...   ...    ...    ...   \n",
       "1448      0           1      0          1       1     0      0      0   \n",
       "1449      1           1      0          1       0     0      1      1   \n",
       "1450      1           1      0          1       0     1      0      1   \n",
       "1451      1           1      0          0       0     1      1      1   \n",
       "1452      0           1      0          1       1     0      0      0   \n",
       "\n",
       "      expensive  healthy  disgusting Like  Age      VisitFrequency  Gender  \n",
       "0             1        0           0   -3   61  Every three months  Female  \n",
       "1             1        0           0   +2   51  Every three months  Female  \n",
       "2             1        1           0   +1   62  Every three months  Female  \n",
       "3             0        0           1   +4   69         Once a week  Female  \n",
       "4             0        1           0   +2   49        Once a month    Male  \n",
       "...         ...      ...         ...  ...  ...                 ...     ...  \n",
       "1448          1        0           1   -5   47         Once a year    Male  \n",
       "1449          0        1           0   +2   36         Once a week  Female  \n",
       "1450          1        0           0   +3   52        Once a month  Female  \n",
       "1451          0        1           0   +4   41  Every three months    Male  \n",
       "1452          1        0           1   -3   30  Every three months    Male  \n",
       "\n",
       "[1453 rows x 15 columns]"
      ]
     },
     "execution_count": 25,
     "metadata": {},
     "output_type": "execute_result"
    }
   ],
   "source": [
    "def labelling(x):\n",
    "    df[x] = LabelEncoder().fit_transform(df[x])\n",
    "    return df\n",
    "\n",
    "df_cat = df.iloc[:,0:11]\n",
    "for i in df_cat:\n",
    "    labelling(i)\n",
    "    \n",
    "df"
   ]
  },
  {
   "cell_type": "code",
   "execution_count": 18,
   "id": "8f49259c-d5ff-476f-96c2-a7d64cf7b1ef",
   "metadata": {},
   "outputs": [
    {
     "data": {
      "text/plain": [
       "array([[<AxesSubplot:title={'center':'yummy'}>,\n",
       "        <AxesSubplot:title={'center':'convenient'}>,\n",
       "        <AxesSubplot:title={'center':'spicy'}>],\n",
       "       [<AxesSubplot:title={'center':'fattening'}>,\n",
       "        <AxesSubplot:title={'center':'greasy'}>,\n",
       "        <AxesSubplot:title={'center':'fast'}>],\n",
       "       [<AxesSubplot:title={'center':'cheap'}>,\n",
       "        <AxesSubplot:title={'center':'tasty'}>,\n",
       "        <AxesSubplot:title={'center':'expensive'}>],\n",
       "       [<AxesSubplot:title={'center':'healthy'}>,\n",
       "        <AxesSubplot:title={'center':'disgusting'}>,\n",
       "        <AxesSubplot:title={'center':'Age'}>]], dtype=object)"
      ]
     },
     "execution_count": 18,
     "metadata": {},
     "output_type": "execute_result"
    },
    {
     "data": {
      "image/png": "[encoded data removed]",
      "text/plain": [
       "<Figure size 864x1008 with 12 Axes>"
      ]
     },
     "metadata": {
      "needs_background": "light"
     },
     "output_type": "display_data"
    }
   ],
   "source": [
    "plt.rcParams['figure.figsize'] = (12,14)\n",
    "df.hist()"
   ]
  },
  {
   "cell_type": "code",
   "execution_count": 26,
   "id": "6bd25155-a5e1-4a70-b439-12a1fe30d21c",
   "metadata": {},
   "outputs": [
    {
     "data": {
      "text/plain": [
       "array([[0, 1, 0, ..., 1, 0, 0],\n",
       "       [1, 1, 0, ..., 1, 0, 0],\n",
       "       [0, 1, 1, ..., 1, 1, 0],\n",
       "       ...,\n",
       "       [1, 1, 0, ..., 1, 0, 0],\n",
       "       [1, 1, 0, ..., 0, 1, 0],\n",
       "       [0, 1, 0, ..., 1, 0, 1]])"
      ]
     },
     "execution_count": 26,
     "metadata": {},
     "output_type": "execute_result"
    }
   ],
   "source": [
    "# converting 11 categorical columns into array\n",
    "x = df_cat.values\n",
    "x"
   ]
  },
  {
   "cell_type": "code",
   "execution_count": 27,
   "id": "37f13c9a-6472-4c63-ace2-65c79ea25883",
   "metadata": {},
   "outputs": [
    {
     "data": {
      "text/plain": [
       "yummy         0.55\n",
       "convenient    0.91\n",
       "spicy         0.09\n",
       "fattening     0.87\n",
       "greasy        0.53\n",
       "fast          0.90\n",
       "cheap         0.60\n",
       "tasty         0.64\n",
       "expensive     0.36\n",
       "healthy       0.20\n",
       "disgusting    0.24\n",
       "dtype: float64"
      ]
     },
     "execution_count": 27,
     "metadata": {},
     "output_type": "execute_result"
    }
   ],
   "source": [
    "# calculating mean of 11 columns\n",
    "round(df.iloc[:,0:11].mean(),2)\n"
   ]
  },
  {
   "cell_type": "markdown",
   "id": "47619e2f-1b41-4ba2-a296-2e0ee6a21c11",
   "metadata": {},
   "source": [
    "# Principal Component Analysis"
   ]
  },
  {
   "cell_type": "code",
   "execution_count": 28,
   "id": "0bdfc5db-5435-407e-8152-3c3b7fc83fd7",
   "metadata": {},
   "outputs": [],
   "source": [
    "from sklearn.decomposition import PCA\n",
    "from sklearn import preprocessing"
   ]
  },
  {
   "cell_type": "code",
   "execution_count": 29,
   "id": "3760ea70-c58f-4392-ab9c-5d63b93c4794",
   "metadata": {},
   "outputs": [
    {
     "name": "stdout",
     "output_type": "stream",
     "text": [
      "[[ 0.42536706 -0.21907878  0.6632553  ...  0.18100693  0.51570617\n",
      "  -0.56707389]\n",
      " [-0.21863768  0.38818996 -0.73082668 ...  0.11147641  0.49331285\n",
      "  -0.50044033]\n",
      " [ 0.37541475  0.73043507 -0.12203978 ... -0.32228786  0.06175857\n",
      "   0.24274108]\n",
      " ...\n",
      " [-0.18589445  1.06266156  0.22085675 ...  0.03825472  0.05651822\n",
      "  -0.01279977]\n",
      " [-1.18206441 -0.03856977  0.56156066 ...  0.02226748 -0.00257265\n",
      "  -0.10531631]\n",
      " [ 1.55024186  0.27503101 -0.01373727 ... -0.13658866 -0.43279782\n",
      "  -0.45607556]]\n"
     ]
    }
   ],
   "source": [
    "pca_data = preprocessing.scale(x)\n",
    "\n",
    "pca = PCA(n_components=11)\n",
    "pc = pca.fit_transform(x)\n",
    "print(pc)"
   ]
  },
  {
   "cell_type": "code",
   "execution_count": 30,
   "id": "13e4cf45-9f2a-41f1-bf67-b93ee3a894a2",
   "metadata": {},
   "outputs": [
    {
     "data": {
      "text/html": [
       "<div>\n",
       "<style scoped>\n",
       "    .dataframe tbody tr th:only-of-type {\n",
       "        vertical-align: middle;\n",
       "    }\n",
       "\n",
       "    .dataframe tbody tr th {\n",
       "        vertical-align: top;\n",
       "    }\n",
       "\n",
       "    .dataframe thead th {\n",
       "        text-align: right;\n",
       "    }\n",
       "</style>\n",
       "<table border=\"1\" class=\"dataframe\">\n",
       "  <thead>\n",
       "    <tr style=\"text-align: right;\">\n",
       "      <th></th>\n",
       "      <th>PC1</th>\n",
       "      <th>PC2</th>\n",
       "      <th>PC3</th>\n",
       "      <th>PC4</th>\n",
       "      <th>PC5</th>\n",
       "      <th>PC6</th>\n",
       "      <th>PC7</th>\n",
       "      <th>PC8</th>\n",
       "      <th>PC9</th>\n",
       "      <th>PC10</th>\n",
       "      <th>PC11</th>\n",
       "    </tr>\n",
       "  </thead>\n",
       "  <tbody>\n",
       "    <tr>\n",
       "      <th>0</th>\n",
       "      <td>0.425367</td>\n",
       "      <td>-0.219079</td>\n",
       "      <td>0.663255</td>\n",
       "      <td>-0.401300</td>\n",
       "      <td>0.201705</td>\n",
       "      <td>-0.389767</td>\n",
       "      <td>-0.211982</td>\n",
       "      <td>0.163235</td>\n",
       "      <td>0.181007</td>\n",
       "      <td>0.515706</td>\n",
       "      <td>-0.567074</td>\n",
       "    </tr>\n",
       "    <tr>\n",
       "      <th>1</th>\n",
       "      <td>-0.218638</td>\n",
       "      <td>0.388190</td>\n",
       "      <td>-0.730827</td>\n",
       "      <td>-0.094724</td>\n",
       "      <td>0.044669</td>\n",
       "      <td>-0.086596</td>\n",
       "      <td>-0.095877</td>\n",
       "      <td>-0.034756</td>\n",
       "      <td>0.111476</td>\n",
       "      <td>0.493313</td>\n",
       "      <td>-0.500440</td>\n",
       "    </tr>\n",
       "    <tr>\n",
       "      <th>2</th>\n",
       "      <td>0.375415</td>\n",
       "      <td>0.730435</td>\n",
       "      <td>-0.122040</td>\n",
       "      <td>0.692262</td>\n",
       "      <td>0.839643</td>\n",
       "      <td>-0.687406</td>\n",
       "      <td>0.583112</td>\n",
       "      <td>0.364379</td>\n",
       "      <td>-0.322288</td>\n",
       "      <td>0.061759</td>\n",
       "      <td>0.242741</td>\n",
       "    </tr>\n",
       "    <tr>\n",
       "      <th>3</th>\n",
       "      <td>-0.172926</td>\n",
       "      <td>-0.352752</td>\n",
       "      <td>-0.843795</td>\n",
       "      <td>0.206998</td>\n",
       "      <td>-0.681415</td>\n",
       "      <td>-0.036133</td>\n",
       "      <td>-0.054284</td>\n",
       "      <td>-0.231477</td>\n",
       "      <td>-0.028003</td>\n",
       "      <td>-0.250678</td>\n",
       "      <td>-0.051034</td>\n",
       "    </tr>\n",
       "    <tr>\n",
       "      <th>4</th>\n",
       "      <td>0.187057</td>\n",
       "      <td>-0.807610</td>\n",
       "      <td>0.028537</td>\n",
       "      <td>0.548332</td>\n",
       "      <td>0.854074</td>\n",
       "      <td>-0.097305</td>\n",
       "      <td>-0.457043</td>\n",
       "      <td>0.171758</td>\n",
       "      <td>-0.074409</td>\n",
       "      <td>0.031897</td>\n",
       "      <td>0.082245</td>\n",
       "    </tr>\n",
       "  </tbody>\n",
       "</table>\n",
       "</div>"
      ],
      "text/plain": [
       "        PC1       PC2       PC3       PC4       PC5       PC6       PC7  \\\n",
       "0  0.425367 -0.219079  0.663255 -0.401300  0.201705 -0.389767 -0.211982   \n",
       "1 -0.218638  0.388190 -0.730827 -0.094724  0.044669 -0.086596 -0.095877   \n",
       "2  0.375415  0.730435 -0.122040  0.692262  0.839643 -0.687406  0.583112   \n",
       "3 -0.172926 -0.352752 -0.843795  0.206998 -0.681415 -0.036133 -0.054284   \n",
       "4  0.187057 -0.807610  0.028537  0.548332  0.854074 -0.097305 -0.457043   \n",
       "\n",
       "        PC8       PC9      PC10      PC11  \n",
       "0  0.163235  0.181007  0.515706 -0.567074  \n",
       "1 -0.034756  0.111476  0.493313 -0.500440  \n",
       "2  0.364379 -0.322288  0.061759  0.242741  \n",
       "3 -0.231477 -0.028003 -0.250678 -0.051034  \n",
       "4  0.171758 -0.074409  0.031897  0.082245  "
      ]
     },
     "execution_count": 30,
     "metadata": {},
     "output_type": "execute_result"
    }
   ],
   "source": [
    "# Inserting pc into a dataFrame\n",
    "colnames = ['PC1','PC2','PC3','PC4','PC5','PC6','PC7','PC8','PC9','PC10','PC11']\n",
    "df_pc = pd.DataFrame(data = pc, columns=colnames)\n",
    "df_pc.head()"
   ]
  },
  {
   "cell_type": "code",
   "execution_count": 31,
   "id": "3ac44301-b434-404b-b87f-1a624ff579d8",
   "metadata": {},
   "outputs": [
    {
     "data": {
      "text/html": [
       "<div>\n",
       "<style scoped>\n",
       "    .dataframe tbody tr th:only-of-type {\n",
       "        vertical-align: middle;\n",
       "    }\n",
       "\n",
       "    .dataframe tbody tr th {\n",
       "        vertical-align: top;\n",
       "    }\n",
       "\n",
       "    .dataframe thead th {\n",
       "        text-align: right;\n",
       "    }\n",
       "</style>\n",
       "<table border=\"1\" class=\"dataframe\">\n",
       "  <thead>\n",
       "    <tr style=\"text-align: right;\">\n",
       "      <th></th>\n",
       "      <th>PC1</th>\n",
       "      <th>PC2</th>\n",
       "      <th>PC3</th>\n",
       "      <th>PC4</th>\n",
       "      <th>PC5</th>\n",
       "      <th>PC6</th>\n",
       "      <th>PC7</th>\n",
       "      <th>PC8</th>\n",
       "      <th>PC9</th>\n",
       "      <th>PC10</th>\n",
       "      <th>PC11</th>\n",
       "    </tr>\n",
       "  </thead>\n",
       "  <tbody>\n",
       "    <tr>\n",
       "      <th>count</th>\n",
       "      <td>1.453000e+03</td>\n",
       "      <td>1.453000e+03</td>\n",
       "      <td>1.453000e+03</td>\n",
       "      <td>1.453000e+03</td>\n",
       "      <td>1.453000e+03</td>\n",
       "      <td>1.453000e+03</td>\n",
       "      <td>1.453000e+03</td>\n",
       "      <td>1.453000e+03</td>\n",
       "      <td>1.453000e+03</td>\n",
       "      <td>1.453000e+03</td>\n",
       "      <td>1.453000e+03</td>\n",
       "    </tr>\n",
       "    <tr>\n",
       "      <th>mean</th>\n",
       "      <td>-1.665717e-17</td>\n",
       "      <td>-3.075463e-17</td>\n",
       "      <td>3.944019e-17</td>\n",
       "      <td>3.247383e-18</td>\n",
       "      <td>5.845290e-17</td>\n",
       "      <td>1.039163e-17</td>\n",
       "      <td>5.491898e-18</td>\n",
       "      <td>2.597907e-17</td>\n",
       "      <td>-1.241647e-17</td>\n",
       "      <td>6.846248e-17</td>\n",
       "      <td>1.226365e-17</td>\n",
       "    </tr>\n",
       "    <tr>\n",
       "      <th>std</th>\n",
       "      <td>7.570495e-01</td>\n",
       "      <td>6.074556e-01</td>\n",
       "      <td>5.046195e-01</td>\n",
       "      <td>3.987986e-01</td>\n",
       "      <td>3.374050e-01</td>\n",
       "      <td>3.102746e-01</td>\n",
       "      <td>2.896973e-01</td>\n",
       "      <td>2.751220e-01</td>\n",
       "      <td>2.652511e-01</td>\n",
       "      <td>2.488418e-01</td>\n",
       "      <td>2.369028e-01</td>\n",
       "    </tr>\n",
       "    <tr>\n",
       "      <th>min</th>\n",
       "      <td>-1.188421e+00</td>\n",
       "      <td>-1.040274e+00</td>\n",
       "      <td>-8.808133e-01</td>\n",
       "      <td>-5.906209e-01</td>\n",
       "      <td>-1.045938e+00</td>\n",
       "      <td>-8.524911e-01</td>\n",
       "      <td>-8.059463e-01</td>\n",
       "      <td>-9.316201e-01</td>\n",
       "      <td>-9.557606e-01</td>\n",
       "      <td>-8.871971e-01</td>\n",
       "      <td>-8.851439e-01</td>\n",
       "    </tr>\n",
       "    <tr>\n",
       "      <th>25%</th>\n",
       "      <td>-5.476794e-01</td>\n",
       "      <td>-3.568482e-01</td>\n",
       "      <td>-4.507793e-01</td>\n",
       "      <td>-2.814986e-01</td>\n",
       "      <td>-2.433247e-01</td>\n",
       "      <td>-1.927027e-01</td>\n",
       "      <td>-1.342190e-01</td>\n",
       "      <td>-1.717258e-01</td>\n",
       "      <td>-1.181233e-01</td>\n",
       "      <td>-1.465751e-01</td>\n",
       "      <td>-1.053163e-01</td>\n",
       "    </tr>\n",
       "    <tr>\n",
       "      <th>50%</th>\n",
       "      <td>-7.074592e-02</td>\n",
       "      <td>-1.151632e-01</td>\n",
       "      <td>2.687734e-02</td>\n",
       "      <td>-1.163200e-01</td>\n",
       "      <td>3.348785e-02</td>\n",
       "      <td>-3.460184e-02</td>\n",
       "      <td>-6.366220e-02</td>\n",
       "      <td>-3.475619e-02</td>\n",
       "      <td>3.868061e-02</td>\n",
       "      <td>3.020635e-02</td>\n",
       "      <td>-1.201409e-02</td>\n",
       "    </tr>\n",
       "    <tr>\n",
       "      <th>75%</th>\n",
       "      <td>4.933012e-01</td>\n",
       "      <td>3.915540e-01</td>\n",
       "      <td>3.515939e-01</td>\n",
       "      <td>2.702298e-01</td>\n",
       "      <td>2.048293e-01</td>\n",
       "      <td>1.747453e-01</td>\n",
       "      <td>2.318357e-02</td>\n",
       "      <td>1.295966e-01</td>\n",
       "      <td>7.987794e-02</td>\n",
       "      <td>7.001416e-02</td>\n",
       "      <td>8.554080e-02</td>\n",
       "    </tr>\n",
       "    <tr>\n",
       "      <th>max</th>\n",
       "      <td>1.705573e+00</td>\n",
       "      <td>1.279130e+00</td>\n",
       "      <td>1.326976e+00</td>\n",
       "      <td>1.355278e+00</td>\n",
       "      <td>1.053327e+00</td>\n",
       "      <td>1.323793e+00</td>\n",
       "      <td>1.350886e+00</td>\n",
       "      <td>1.121388e+00</td>\n",
       "      <td>1.086693e+00</td>\n",
       "      <td>1.181524e+00</td>\n",
       "      <td>9.255829e-01</td>\n",
       "    </tr>\n",
       "  </tbody>\n",
       "</table>\n",
       "</div>"
      ],
      "text/plain": [
       "                PC1           PC2           PC3           PC4           PC5  \\\n",
       "count  1.453000e+03  1.453000e+03  1.453000e+03  1.453000e+03  1.453000e+03   \n",
       "mean  -1.665717e-17 -3.075463e-17  3.944019e-17  3.247383e-18  5.845290e-17   \n",
       "std    7.570495e-01  6.074556e-01  5.046195e-01  3.987986e-01  3.374050e-01   \n",
       "min   -1.188421e+00 -1.040274e+00 -8.808133e-01 -5.906209e-01 -1.045938e+00   \n",
       "25%   -5.476794e-01 -3.568482e-01 -4.507793e-01 -2.814986e-01 -2.433247e-01   \n",
       "50%   -7.074592e-02 -1.151632e-01  2.687734e-02 -1.163200e-01  3.348785e-02   \n",
       "75%    4.933012e-01  3.915540e-01  3.515939e-01  2.702298e-01  2.048293e-01   \n",
       "max    1.705573e+00  1.279130e+00  1.326976e+00  1.355278e+00  1.053327e+00   \n",
       "\n",
       "                PC6           PC7           PC8           PC9          PC10  \\\n",
       "count  1.453000e+03  1.453000e+03  1.453000e+03  1.453000e+03  1.453000e+03   \n",
       "mean   1.039163e-17  5.491898e-18  2.597907e-17 -1.241647e-17  6.846248e-17   \n",
       "std    3.102746e-01  2.896973e-01  2.751220e-01  2.652511e-01  2.488418e-01   \n",
       "min   -8.524911e-01 -8.059463e-01 -9.316201e-01 -9.557606e-01 -8.871971e-01   \n",
       "25%   -1.927027e-01 -1.342190e-01 -1.717258e-01 -1.181233e-01 -1.465751e-01   \n",
       "50%   -3.460184e-02 -6.366220e-02 -3.475619e-02  3.868061e-02  3.020635e-02   \n",
       "75%    1.747453e-01  2.318357e-02  1.295966e-01  7.987794e-02  7.001416e-02   \n",
       "max    1.323793e+00  1.350886e+00  1.121388e+00  1.086693e+00  1.181524e+00   \n",
       "\n",
       "               PC11  \n",
       "count  1.453000e+03  \n",
       "mean   1.226365e-17  \n",
       "std    2.369028e-01  \n",
       "min   -8.851439e-01  \n",
       "25%   -1.053163e-01  \n",
       "50%   -1.201409e-02  \n",
       "75%    8.554080e-02  \n",
       "max    9.255829e-01  "
      ]
     },
     "execution_count": 31,
     "metadata": {},
     "output_type": "execute_result"
    }
   ],
   "source": [
    "df_pc.describe()"
   ]
  },
  {
   "cell_type": "code",
   "execution_count": 32,
   "id": "74ce1f77-e422-49e2-a575-d35f3a623d2c",
   "metadata": {},
   "outputs": [
    {
     "data": {
      "text/plain": [
       "array([0.29944723, 0.19279721, 0.13304535, 0.08309578, 0.05948052,\n",
       "       0.05029956, 0.0438491 , 0.03954779, 0.0367609 , 0.03235329,\n",
       "       0.02932326])"
      ]
     },
     "execution_count": 32,
     "metadata": {},
     "output_type": "execute_result"
    }
   ],
   "source": [
    "pca_variance = pca.explained_variance_ratio_\n",
    "pca_variance"
   ]
  },
  {
   "cell_type": "code",
   "execution_count": 33,
   "id": "de5c604e-7501-45d1-aaa4-4203966bbc91",
   "metadata": {},
   "outputs": [
    {
     "data": {
      "text/plain": [
       "array([0.29944723, 0.49224445, 0.6252898 , 0.70838558, 0.7678661 ,\n",
       "       0.81816566, 0.86201476, 0.90156255, 0.93832345, 0.97067674,\n",
       "       1.        ])"
      ]
     },
     "execution_count": 33,
     "metadata": {},
     "output_type": "execute_result"
    }
   ],
   "source": [
    "np.cumsum(pca_variance)"
   ]
  },
  {
   "cell_type": "code",
   "execution_count": 34,
   "id": "4640e654-ba02-4118-98c0-c3f85dbd409b",
   "metadata": {},
   "outputs": [
    {
     "name": "stdout",
     "output_type": "stream",
     "text": [
      "Requirement already satisfied: bioinfokit in c:\\users\\12au\\anaconda3\\lib\\site-packages (2.0.8)\n",
      "Requirement already satisfied: tabulate in c:\\users\\12au\\anaconda3\\lib\\site-packages (from bioinfokit) (0.8.9)\n",
      "Requirement already satisfied: scipy in c:\\users\\12au\\anaconda3\\lib\\site-packages (from bioinfokit) (1.6.2)\n",
      "Requirement already satisfied: scikit-learn in c:\\users\\12au\\anaconda3\\lib\\site-packages (from bioinfokit) (1.0.2)\n",
      "Requirement already satisfied: statsmodels in c:\\users\\12au\\anaconda3\\lib\\site-packages (from bioinfokit) (0.12.2)\n",
      "Requirement already satisfied: adjustText in c:\\users\\12au\\anaconda3\\lib\\site-packages (from bioinfokit) (0.7.3)\n",
      "Requirement already satisfied: matplotlib in c:\\users\\12au\\anaconda3\\lib\\site-packages (from bioinfokit) (3.3.4)\n",
      "Requirement already satisfied: numpy in c:\\users\\12au\\anaconda3\\lib\\site-packages (from bioinfokit) (1.20.1)\n",
      "Requirement already satisfied: matplotlib-venn in c:\\users\\12au\\anaconda3\\lib\\site-packages (from bioinfokit) (0.11.7)\n",
      "Requirement already satisfied: seaborn in c:\\users\\12au\\anaconda3\\lib\\site-packages (from bioinfokit) (0.11.1)\n",
      "Requirement already satisfied: textwrap3 in c:\\users\\12au\\anaconda3\\lib\\site-packages (from bioinfokit) (0.9.2)\n",
      "Requirement already satisfied: pandas in c:\\users\\12au\\anaconda3\\lib\\site-packages (from bioinfokit) (1.2.4)\n",
      "Requirement already satisfied: pyparsing!=2.0.4,!=2.1.2,!=2.1.6,>=2.0.3 in c:\\users\\12au\\anaconda3\\lib\\site-packages (from matplotlib->bioinfokit) (2.4.7)\n",
      "Requirement already satisfied: kiwisolver>=1.0.1 in c:\\users\\12au\\anaconda3\\lib\\site-packages (from matplotlib->bioinfokit) (1.3.1)\n",
      "Requirement already satisfied: python-dateutil>=2.1 in c:\\users\\12au\\anaconda3\\lib\\site-packages (from matplotlib->bioinfokit) (2.8.1)\n",
      "Requirement already satisfied: cycler>=0.10 in c:\\users\\12au\\anaconda3\\lib\\site-packages (from matplotlib->bioinfokit) (0.10.0)\n",
      "Requirement already satisfied: pillow>=6.2.0 in c:\\users\\12au\\anaconda3\\lib\\site-packages (from matplotlib->bioinfokit) (8.2.0)\n",
      "Requirement already satisfied: six in c:\\users\\12au\\anaconda3\\lib\\site-packages (from cycler>=0.10->matplotlib->bioinfokit) (1.15.0)\n",
      "Requirement already satisfied: pytz>=2017.3 in c:\\users\\12au\\anaconda3\\lib\\site-packages (from pandas->bioinfokit) (2021.1)\n",
      "Requirement already satisfied: joblib>=0.11 in c:\\users\\12au\\anaconda3\\lib\\site-packages (from scikit-learn->bioinfokit) (1.0.1)\n",
      "Requirement already satisfied: threadpoolctl>=2.0.0 in c:\\users\\12au\\anaconda3\\lib\\site-packages (from scikit-learn->bioinfokit) (2.1.0)\n",
      "Requirement already satisfied: patsy>=0.5 in c:\\users\\12au\\anaconda3\\lib\\site-packages (from statsmodels->bioinfokit) (0.5.1)\n"
     ]
    }
   ],
   "source": [
    "! pip install bioinfokit"
   ]
  },
  {
   "cell_type": "code",
   "execution_count": 35,
   "id": "d13732fa-92a7-465c-9b73-03574e1e4e72",
   "metadata": {},
   "outputs": [],
   "source": [
    "from bioinfokit.visuz import cluster"
   ]
  },
  {
   "cell_type": "code",
   "execution_count": 36,
   "id": "6c594789-7d06-4d7b-a1c0-32de60d1836d",
   "metadata": {},
   "outputs": [
    {
     "data": {
      "image/png": "[encoded data removed]",
      "text/plain": [
       "<Figure size 720x360 with 1 Axes>"
      ]
     },
     "metadata": {
      "needs_background": "light"
     },
     "output_type": "display_data"
    }
   ],
   "source": [
    "#Scree plot (Elbow test)- PCA\n",
    "num_pc = pca.n_features_\n",
    "pc_list = [\"PC\"+str(i) for i in list(range(1, num_pc+1))]\n",
    "cluster.screeplot(obj=[pc_list, pca.explained_variance_ratio_],show=True,dim=(10,5))"
   ]
  },
  {
   "cell_type": "code",
   "execution_count": 37,
   "id": "821d1b7e-35fe-4edc-b369-06f7763ad895",
   "metadata": {},
   "outputs": [
    {
     "data": {
      "image/png": "[encoded data removed]",
      "text/plain": [
       "<Figure size 720x360 with 1 Axes>"
      ]
     },
     "metadata": {
      "needs_background": "light"
     },
     "output_type": "display_data"
    }
   ],
   "source": [
    "# get PC scores\n",
    "pca_scores = PCA().fit_transform(x)\n",
    "\n",
    "# get 2D biplot\n",
    "\n",
    "cluster.biplot(cscore=pca_scores, loadings=pca.components_, labels=df.columns.values, var1=round(pca.explained_variance_ratio_[0]*100, 2),\n",
    "    var2=round(pca.explained_variance_ratio_[1]*100, 2),show=True,dim=(10,5))"
   ]
  },
  {
   "cell_type": "markdown",
   "id": "248d9452-058e-458e-9a99-62b542633254",
   "metadata": {},
   "source": [
    "# Extracting Segments"
   ]
  },
  {
   "cell_type": "code",
   "execution_count": 38,
   "id": "2af84e98-cd99-46c6-8573-07c630752f0e",
   "metadata": {},
   "outputs": [
    {
     "name": "stdout",
     "output_type": "stream",
     "text": [
      "Labels to input data : [2 0 0 ... 0 1 3]\n",
      "kMeans Inertia : 1603.0604440558945\n",
      "No. of iterations : 7\n",
      "Centriods Location:\n",
      " [[0.85448916 0.9628483  0.13312693 0.90712074 0.61919505 0.86068111\n",
      "  0.10835913 0.93188854 0.89783282 0.20433437 0.10526316]\n",
      " [0.88793103 0.98103448 0.0862069  0.79482759 0.32931034 0.96034483\n",
      "  0.92241379 0.97586207 0.01724138 0.32068966 0.04310345]\n",
      " [0.02302632 0.89144737 0.07236842 0.92434211 0.66776316 0.96381579\n",
      "  0.93421053 0.15460526 0.01315789 0.07236842 0.38815789]\n",
      " [0.0203252  0.68292683 0.08536585 0.91463415 0.69512195 0.73170732\n",
      "  0.06504065 0.08943089 0.87804878 0.06097561 0.71544715]]\n"
     ]
    }
   ],
   "source": [
    "# K-means\n",
    "from sklearn.cluster import KMeans\n",
    "\n",
    "kmeans = KMeans(n_clusters=4, init='k-means++', random_state=0).fit(df_cat)\n",
    "df['cluster_num'] = kmeans.labels_#adding to df\n",
    "print ('Labels to input data :', kmeans.labels_) #Label assigned for each data point\n",
    "print ('kMeans Inertia :',kmeans.inertia_) #gives within-cluster sum of squares. \n",
    "print('No. of iterations :', kmeans.n_iter_) #number of iterations that k-means algorithm runs to get a minimum within-cluster sum of squares\n",
    "print('Centriods Location:\\n', kmeans.cluster_centers_) #Location of the centroids on each cluster. "
   ]
  },
  {
   "cell_type": "code",
   "execution_count": 39,
   "id": "826a3a4c-3031-4e23-a84c-27799bb7bbdc",
   "metadata": {},
   "outputs": [
    {
     "data": {
      "text/plain": [
       "1    580\n",
       "0    323\n",
       "2    304\n",
       "3    246\n",
       "Name: cluster_num, dtype: int64"
      ]
     },
     "execution_count": 39,
     "metadata": {},
     "output_type": "execute_result"
    }
   ],
   "source": [
    "df['cluster_num'].value_counts()"
   ]
  },
  {
   "cell_type": "code",
   "execution_count": 40,
   "id": "884a0d95-5bec-466f-a1bc-0bd9c1cdda37",
   "metadata": {},
   "outputs": [
    {
     "data": {
      "text/plain": [
       "Counter({2: 304, 0: 323, 1: 580, 3: 246})"
      ]
     },
     "execution_count": 40,
     "metadata": {},
     "output_type": "execute_result"
    }
   ],
   "source": [
    "#To see each cluster size\n",
    "from collections import Counter\n",
    "Counter(kmeans.labels_)"
   ]
  },
  {
   "cell_type": "code",
   "execution_count": 41,
   "id": "482d71f9-4aba-4b4a-8a27-f4adf0a3ed14",
   "metadata": {},
   "outputs": [
    {
     "data": {
      "image/png": "[encoded data removed]",
      "text/plain": [
       "<Figure size 864x1008 with 1 Axes>"
      ]
     },
     "metadata": {
      "needs_background": "light"
     },
     "output_type": "display_data"
    }
   ],
   "source": [
    "#Visulazing clusters\n",
    "sns.scatterplot(data=df_pc, x=\"PC1\", y=\"PC2\", hue=kmeans.labels_)\n",
    "plt.scatter(kmeans.cluster_centers_[:,0], kmeans.cluster_centers_[:,1], \n",
    "            marker=\"X\", c=\"r\", s=80, label=\"centroids\")\n",
    "plt.legend()\n",
    "plt.show()"
   ]
  },
  {
   "cell_type": "code",
   "execution_count": 42,
   "id": "93b75eb9-ef74-4e1a-a5f5-157edda3ab6d",
   "metadata": {},
   "outputs": [],
   "source": [
    "# Hierarchical Clustering Algotithm"
   ]
  },
  {
   "cell_type": "code",
   "execution_count": 43,
   "id": "86cbf6b4-b3c2-4db3-930e-76c5c46de9d5",
   "metadata": {},
   "outputs": [
    {
     "data": {
      "image/png": "[encoded data removed]",
      "text/plain": [
       "<Figure size 504x360 with 1 Axes>"
      ]
     },
     "metadata": {
      "needs_background": "light"
     },
     "output_type": "display_data"
    }
   ],
   "source": [
    "#create demogram and find the best clustering value\n",
    "from scipy.cluster.hierarchy import linkage, dendrogram\n",
    "\n",
    "merg = linkage(df_cat, method='ward')\n",
    "plt.rcParams['figure.figsize'] = (7,5)\n",
    "dendrogram(merg,leaf_rotation = 90)\n",
    "plt.xlabel(\"data points\", fontsize = 15)\n",
    "plt.ylabel(\"euclidean distance\", fontsize=15)\n",
    "plt.show()"
   ]
  },
  {
   "cell_type": "markdown",
   "id": "8bcfa4df-eef8-4f10-a311-f0e19a5ae9bd",
   "metadata": {},
   "source": [
    "# DESCRIBING SEGMENTS"
   ]
  },
  {
   "cell_type": "code",
   "execution_count": 44,
   "id": "5b59158c-75e7-41cb-a4ff-69f800a44fbe",
   "metadata": {},
   "outputs": [
    {
     "data": {
      "text/html": [
       "<div>\n",
       "<style scoped>\n",
       "    .dataframe tbody tr th:only-of-type {\n",
       "        vertical-align: middle;\n",
       "    }\n",
       "\n",
       "    .dataframe tbody tr th {\n",
       "        vertical-align: top;\n",
       "    }\n",
       "\n",
       "    .dataframe thead th {\n",
       "        text-align: right;\n",
       "    }\n",
       "</style>\n",
       "<table border=\"1\" class=\"dataframe\">\n",
       "  <thead>\n",
       "    <tr style=\"text-align: right;\">\n",
       "      <th>Like</th>\n",
       "      <th>-5</th>\n",
       "      <th>-4</th>\n",
       "      <th>-3</th>\n",
       "      <th>-2</th>\n",
       "      <th>-1</th>\n",
       "      <th>0</th>\n",
       "      <th>+1</th>\n",
       "      <th>+2</th>\n",
       "      <th>+3</th>\n",
       "      <th>+4</th>\n",
       "      <th>+5</th>\n",
       "    </tr>\n",
       "    <tr>\n",
       "      <th>cluster_num</th>\n",
       "      <th></th>\n",
       "      <th></th>\n",
       "      <th></th>\n",
       "      <th></th>\n",
       "      <th></th>\n",
       "      <th></th>\n",
       "      <th></th>\n",
       "      <th></th>\n",
       "      <th></th>\n",
       "      <th></th>\n",
       "      <th></th>\n",
       "    </tr>\n",
       "  </thead>\n",
       "  <tbody>\n",
       "    <tr>\n",
       "      <th>0</th>\n",
       "      <td>5</td>\n",
       "      <td>3</td>\n",
       "      <td>7</td>\n",
       "      <td>6</td>\n",
       "      <td>7</td>\n",
       "      <td>36</td>\n",
       "      <td>42</td>\n",
       "      <td>60</td>\n",
       "      <td>66</td>\n",
       "      <td>47</td>\n",
       "      <td>44</td>\n",
       "    </tr>\n",
       "    <tr>\n",
       "      <th>1</th>\n",
       "      <td>4</td>\n",
       "      <td>4</td>\n",
       "      <td>2</td>\n",
       "      <td>6</td>\n",
       "      <td>13</td>\n",
       "      <td>43</td>\n",
       "      <td>65</td>\n",
       "      <td>90</td>\n",
       "      <td>143</td>\n",
       "      <td>111</td>\n",
       "      <td>99</td>\n",
       "    </tr>\n",
       "    <tr>\n",
       "      <th>2</th>\n",
       "      <td>54</td>\n",
       "      <td>36</td>\n",
       "      <td>34</td>\n",
       "      <td>28</td>\n",
       "      <td>25</td>\n",
       "      <td>51</td>\n",
       "      <td>31</td>\n",
       "      <td>31</td>\n",
       "      <td>12</td>\n",
       "      <td>2</td>\n",
       "      <td>0</td>\n",
       "    </tr>\n",
       "    <tr>\n",
       "      <th>3</th>\n",
       "      <td>89</td>\n",
       "      <td>28</td>\n",
       "      <td>30</td>\n",
       "      <td>19</td>\n",
       "      <td>13</td>\n",
       "      <td>39</td>\n",
       "      <td>14</td>\n",
       "      <td>6</td>\n",
       "      <td>8</td>\n",
       "      <td>0</td>\n",
       "      <td>0</td>\n",
       "    </tr>\n",
       "  </tbody>\n",
       "</table>\n",
       "</div>"
      ],
      "text/plain": [
       "Like         -5  -4  -3  -2  -1   0  +1  +2   +3   +4  +5\n",
       "cluster_num                                              \n",
       "0             5   3   7   6   7  36  42  60   66   47  44\n",
       "1             4   4   2   6  13  43  65  90  143  111  99\n",
       "2            54  36  34  28  25  51  31  31   12    2   0\n",
       "3            89  28  30  19  13  39  14   6    8    0   0"
      ]
     },
     "execution_count": 44,
     "metadata": {},
     "output_type": "execute_result"
    }
   ],
   "source": [
    "from statsmodels.graphics.mosaicplot import mosaic\n",
    "from itertools import product\n",
    "\n",
    "crosstab =pd.crosstab(df['cluster_num'],df['Like'])\n",
    "#Reordering cols\n",
    "crosstab = crosstab[['-5','-4','-3','-2','-1','0','+1','+2','+3','+4','+5']]\n",
    "crosstab "
   ]
  },
  {
   "cell_type": "code",
   "execution_count": 45,
   "id": "ee426057-82fc-40ef-8788-857cf5f51917",
   "metadata": {},
   "outputs": [
    {
     "data": {
      "image/png": "[encoded data removed]",
      "text/plain": [
       "<Figure size 504x360 with 3 Axes>"
      ]
     },
     "metadata": {
      "needs_background": "light"
     },
     "output_type": "display_data"
    }
   ],
   "source": [
    "plt.rcParams['figure.figsize'] = (7,5)\n",
    "mosaic(crosstab.stack())\n",
    "plt.show()"
   ]
  },
  {
   "cell_type": "code",
   "execution_count": 46,
   "id": "e9cd615f-0a1d-4b94-a7d9-f6ca51020173",
   "metadata": {},
   "outputs": [
    {
     "data": {
      "text/html": [
       "<div>\n",
       "<style scoped>\n",
       "    .dataframe tbody tr th:only-of-type {\n",
       "        vertical-align: middle;\n",
       "    }\n",
       "\n",
       "    .dataframe tbody tr th {\n",
       "        vertical-align: top;\n",
       "    }\n",
       "\n",
       "    .dataframe thead th {\n",
       "        text-align: right;\n",
       "    }\n",
       "</style>\n",
       "<table border=\"1\" class=\"dataframe\">\n",
       "  <thead>\n",
       "    <tr style=\"text-align: right;\">\n",
       "      <th>Gender</th>\n",
       "      <th>Female</th>\n",
       "      <th>Male</th>\n",
       "    </tr>\n",
       "    <tr>\n",
       "      <th>cluster_num</th>\n",
       "      <th></th>\n",
       "      <th></th>\n",
       "    </tr>\n",
       "  </thead>\n",
       "  <tbody>\n",
       "    <tr>\n",
       "      <th>0</th>\n",
       "      <td>154</td>\n",
       "      <td>169</td>\n",
       "    </tr>\n",
       "    <tr>\n",
       "      <th>1</th>\n",
       "      <td>349</td>\n",
       "      <td>231</td>\n",
       "    </tr>\n",
       "    <tr>\n",
       "      <th>2</th>\n",
       "      <td>179</td>\n",
       "      <td>125</td>\n",
       "    </tr>\n",
       "    <tr>\n",
       "      <th>3</th>\n",
       "      <td>106</td>\n",
       "      <td>140</td>\n",
       "    </tr>\n",
       "  </tbody>\n",
       "</table>\n",
       "</div>"
      ],
      "text/plain": [
       "Gender       Female  Male\n",
       "cluster_num              \n",
       "0               154   169\n",
       "1               349   231\n",
       "2               179   125\n",
       "3               106   140"
      ]
     },
     "execution_count": 46,
     "metadata": {},
     "output_type": "execute_result"
    }
   ],
   "source": [
    "#Mosaic plot gender vs segment\n",
    "crosstab_gender =pd.crosstab(df['cluster_num'],df['Gender'])\n",
    "crosstab_gender"
   ]
  },
  {
   "cell_type": "code",
   "execution_count": 47,
   "id": "28b45a6d-7ba0-4a8b-a1b0-a847520fc0fe",
   "metadata": {},
   "outputs": [
    {
     "data": {
      "image/png": "[encoded data removed]",
      "text/plain": [
       "<Figure size 504x360 with 3 Axes>"
      ]
     },
     "metadata": {
      "needs_background": "light"
     },
     "output_type": "display_data"
    }
   ],
   "source": [
    "plt.rcParams['figure.figsize'] = (7,5)\n",
    "mosaic(crosstab_gender.stack())\n",
    "plt.show()"
   ]
  },
  {
   "cell_type": "code",
   "execution_count": 48,
   "id": "56c6e0fe-6de0-4246-8bb3-59f6999b883c",
   "metadata": {},
   "outputs": [
    {
     "data": {
      "text/plain": [
       "<AxesSubplot:xlabel='cluster_num', ylabel='Age'>"
      ]
     },
     "execution_count": 48,
     "metadata": {},
     "output_type": "execute_result"
    },
    {
     "data": {
      "image/png": "[encoded data removed]",
      "text/plain": [
       "<Figure size 504x360 with 1 Axes>"
      ]
     },
     "metadata": {
      "needs_background": "light"
     },
     "output_type": "display_data"
    }
   ],
   "source": [
    "#box plot for age\n",
    "\n",
    "sns.boxplot(x=\"cluster_num\", y=\"Age\", data=df)"
   ]
  },
  {
   "cell_type": "code",
   "execution_count": 49,
   "id": "d4302c99-7bb5-4c56-a905-6f0ff9eeeebe",
   "metadata": {},
   "outputs": [
    {
     "data": {
      "text/html": [
       "<div>\n",
       "<style scoped>\n",
       "    .dataframe tbody tr th:only-of-type {\n",
       "        vertical-align: middle;\n",
       "    }\n",
       "\n",
       "    .dataframe tbody tr th {\n",
       "        vertical-align: top;\n",
       "    }\n",
       "\n",
       "    .dataframe thead th {\n",
       "        text-align: right;\n",
       "    }\n",
       "</style>\n",
       "<table border=\"1\" class=\"dataframe\">\n",
       "  <thead>\n",
       "    <tr style=\"text-align: right;\">\n",
       "      <th></th>\n",
       "      <th>yummy</th>\n",
       "      <th>convenient</th>\n",
       "      <th>spicy</th>\n",
       "      <th>fattening</th>\n",
       "      <th>greasy</th>\n",
       "      <th>fast</th>\n",
       "      <th>cheap</th>\n",
       "      <th>tasty</th>\n",
       "      <th>expensive</th>\n",
       "      <th>healthy</th>\n",
       "      <th>disgusting</th>\n",
       "      <th>Like</th>\n",
       "      <th>Age</th>\n",
       "      <th>VisitFrequency</th>\n",
       "      <th>Gender</th>\n",
       "      <th>cluster_num</th>\n",
       "    </tr>\n",
       "  </thead>\n",
       "  <tbody>\n",
       "    <tr>\n",
       "      <th>0</th>\n",
       "      <td>0</td>\n",
       "      <td>1</td>\n",
       "      <td>0</td>\n",
       "      <td>1</td>\n",
       "      <td>0</td>\n",
       "      <td>1</td>\n",
       "      <td>1</td>\n",
       "      <td>0</td>\n",
       "      <td>1</td>\n",
       "      <td>0</td>\n",
       "      <td>0</td>\n",
       "      <td>-3</td>\n",
       "      <td>61</td>\n",
       "      <td>Every three months</td>\n",
       "      <td>Female</td>\n",
       "      <td>2</td>\n",
       "    </tr>\n",
       "    <tr>\n",
       "      <th>1</th>\n",
       "      <td>1</td>\n",
       "      <td>1</td>\n",
       "      <td>0</td>\n",
       "      <td>1</td>\n",
       "      <td>1</td>\n",
       "      <td>1</td>\n",
       "      <td>1</td>\n",
       "      <td>1</td>\n",
       "      <td>1</td>\n",
       "      <td>0</td>\n",
       "      <td>0</td>\n",
       "      <td>+2</td>\n",
       "      <td>51</td>\n",
       "      <td>Every three months</td>\n",
       "      <td>Female</td>\n",
       "      <td>0</td>\n",
       "    </tr>\n",
       "    <tr>\n",
       "      <th>2</th>\n",
       "      <td>0</td>\n",
       "      <td>1</td>\n",
       "      <td>1</td>\n",
       "      <td>1</td>\n",
       "      <td>1</td>\n",
       "      <td>1</td>\n",
       "      <td>0</td>\n",
       "      <td>1</td>\n",
       "      <td>1</td>\n",
       "      <td>1</td>\n",
       "      <td>0</td>\n",
       "      <td>+1</td>\n",
       "      <td>62</td>\n",
       "      <td>Every three months</td>\n",
       "      <td>Female</td>\n",
       "      <td>0</td>\n",
       "    </tr>\n",
       "    <tr>\n",
       "      <th>3</th>\n",
       "      <td>1</td>\n",
       "      <td>1</td>\n",
       "      <td>0</td>\n",
       "      <td>1</td>\n",
       "      <td>1</td>\n",
       "      <td>1</td>\n",
       "      <td>1</td>\n",
       "      <td>1</td>\n",
       "      <td>0</td>\n",
       "      <td>0</td>\n",
       "      <td>1</td>\n",
       "      <td>+4</td>\n",
       "      <td>69</td>\n",
       "      <td>Once a week</td>\n",
       "      <td>Female</td>\n",
       "      <td>1</td>\n",
       "    </tr>\n",
       "    <tr>\n",
       "      <th>4</th>\n",
       "      <td>0</td>\n",
       "      <td>1</td>\n",
       "      <td>0</td>\n",
       "      <td>1</td>\n",
       "      <td>1</td>\n",
       "      <td>1</td>\n",
       "      <td>1</td>\n",
       "      <td>0</td>\n",
       "      <td>0</td>\n",
       "      <td>1</td>\n",
       "      <td>0</td>\n",
       "      <td>+2</td>\n",
       "      <td>49</td>\n",
       "      <td>Once a month</td>\n",
       "      <td>Male</td>\n",
       "      <td>2</td>\n",
       "    </tr>\n",
       "  </tbody>\n",
       "</table>\n",
       "</div>"
      ],
      "text/plain": [
       "   yummy  convenient  spicy  fattening  greasy  fast  cheap  tasty  expensive  \\\n",
       "0      0           1      0          1       0     1      1      0          1   \n",
       "1      1           1      0          1       1     1      1      1          1   \n",
       "2      0           1      1          1       1     1      0      1          1   \n",
       "3      1           1      0          1       1     1      1      1          0   \n",
       "4      0           1      0          1       1     1      1      0          0   \n",
       "\n",
       "   healthy  disgusting Like  Age      VisitFrequency  Gender  cluster_num  \n",
       "0        0           0   -3   61  Every three months  Female            2  \n",
       "1        0           0   +2   51  Every three months  Female            0  \n",
       "2        1           0   +1   62  Every three months  Female            0  \n",
       "3        0           1   +4   69         Once a week  Female            1  \n",
       "4        1           0   +2   49        Once a month    Male            2  "
      ]
     },
     "execution_count": 49,
     "metadata": {},
     "output_type": "execute_result"
    }
   ],
   "source": [
    "df.head()"
   ]
  },
  {
   "cell_type": "markdown",
   "id": "70cb561e-059a-446c-8939-39f56e62e891",
   "metadata": {},
   "source": [
    "# Selecting the target"
   ]
  },
  {
   "cell_type": "code",
   "execution_count": 50,
   "id": "8e8e1340-fc03-45cb-a563-c9724ce2fa99",
   "metadata": {},
   "outputs": [
    {
     "data": {
      "text/html": [
       "<div>\n",
       "<style scoped>\n",
       "    .dataframe tbody tr th:only-of-type {\n",
       "        vertical-align: middle;\n",
       "    }\n",
       "\n",
       "    .dataframe tbody tr th {\n",
       "        vertical-align: top;\n",
       "    }\n",
       "\n",
       "    .dataframe thead th {\n",
       "        text-align: right;\n",
       "    }\n",
       "</style>\n",
       "<table border=\"1\" class=\"dataframe\">\n",
       "  <thead>\n",
       "    <tr style=\"text-align: right;\">\n",
       "      <th></th>\n",
       "      <th>cluster_num</th>\n",
       "      <th>VisitFrequency</th>\n",
       "    </tr>\n",
       "  </thead>\n",
       "  <tbody>\n",
       "    <tr>\n",
       "      <th>0</th>\n",
       "      <td>0</td>\n",
       "      <td>2.547988</td>\n",
       "    </tr>\n",
       "    <tr>\n",
       "      <th>1</th>\n",
       "      <td>1</td>\n",
       "      <td>2.584483</td>\n",
       "    </tr>\n",
       "    <tr>\n",
       "      <th>2</th>\n",
       "      <td>2</td>\n",
       "      <td>2.822368</td>\n",
       "    </tr>\n",
       "    <tr>\n",
       "      <th>3</th>\n",
       "      <td>3</td>\n",
       "      <td>2.654472</td>\n",
       "    </tr>\n",
       "  </tbody>\n",
       "</table>\n",
       "</div>"
      ],
      "text/plain": [
       "   cluster_num  VisitFrequency\n",
       "0            0        2.547988\n",
       "1            1        2.584483\n",
       "2            2        2.822368\n",
       "3            3        2.654472"
      ]
     },
     "execution_count": 50,
     "metadata": {},
     "output_type": "execute_result"
    }
   ],
   "source": [
    "#Calculating the mean\n",
    "#Visit frequency\n",
    "df['VisitFrequency'] = LabelEncoder().fit_transform(df['VisitFrequency'])\n",
    "visit = df.groupby('cluster_num')['VisitFrequency'].mean()\n",
    "visit = visit.to_frame().reset_index()\n",
    "visit"
   ]
  },
  {
   "cell_type": "code",
   "execution_count": 51,
   "id": "4f4573f1-c694-45e7-9c1f-a29c0638aad1",
   "metadata": {},
   "outputs": [
    {
     "data": {
      "text/html": [
       "<div>\n",
       "<style scoped>\n",
       "    .dataframe tbody tr th:only-of-type {\n",
       "        vertical-align: middle;\n",
       "    }\n",
       "\n",
       "    .dataframe tbody tr th {\n",
       "        vertical-align: top;\n",
       "    }\n",
       "\n",
       "    .dataframe thead th {\n",
       "        text-align: right;\n",
       "    }\n",
       "</style>\n",
       "<table border=\"1\" class=\"dataframe\">\n",
       "  <thead>\n",
       "    <tr style=\"text-align: right;\">\n",
       "      <th></th>\n",
       "      <th>cluster_num</th>\n",
       "      <th>Like</th>\n",
       "    </tr>\n",
       "  </thead>\n",
       "  <tbody>\n",
       "    <tr>\n",
       "      <th>0</th>\n",
       "      <td>0</td>\n",
       "      <td>3.275542</td>\n",
       "    </tr>\n",
       "    <tr>\n",
       "      <th>1</th>\n",
       "      <td>1</td>\n",
       "      <td>2.962069</td>\n",
       "    </tr>\n",
       "    <tr>\n",
       "      <th>2</th>\n",
       "      <td>2</td>\n",
       "      <td>6.171053</td>\n",
       "    </tr>\n",
       "    <tr>\n",
       "      <th>3</th>\n",
       "      <td>3</td>\n",
       "      <td>7.422764</td>\n",
       "    </tr>\n",
       "  </tbody>\n",
       "</table>\n",
       "</div>"
      ],
      "text/plain": [
       "   cluster_num      Like\n",
       "0            0  3.275542\n",
       "1            1  2.962069\n",
       "2            2  6.171053\n",
       "3            3  7.422764"
      ]
     },
     "execution_count": 51,
     "metadata": {},
     "output_type": "execute_result"
    }
   ],
   "source": [
    "#Like\n",
    "df['Like'] = LabelEncoder().fit_transform(df['Like'])\n",
    "Like = df.groupby('cluster_num')['Like'].mean()\n",
    "Like = Like.to_frame().reset_index()\n",
    "Like"
   ]
  },
  {
   "cell_type": "code",
   "execution_count": 52,
   "id": "d13f645e-c837-4a5e-802e-db8a2b7ff011",
   "metadata": {},
   "outputs": [
    {
     "data": {
      "text/html": [
       "<div>\n",
       "<style scoped>\n",
       "    .dataframe tbody tr th:only-of-type {\n",
       "        vertical-align: middle;\n",
       "    }\n",
       "\n",
       "    .dataframe tbody tr th {\n",
       "        vertical-align: top;\n",
       "    }\n",
       "\n",
       "    .dataframe thead th {\n",
       "        text-align: right;\n",
       "    }\n",
       "</style>\n",
       "<table border=\"1\" class=\"dataframe\">\n",
       "  <thead>\n",
       "    <tr style=\"text-align: right;\">\n",
       "      <th></th>\n",
       "      <th>cluster_num</th>\n",
       "      <th>Gender</th>\n",
       "    </tr>\n",
       "  </thead>\n",
       "  <tbody>\n",
       "    <tr>\n",
       "      <th>0</th>\n",
       "      <td>0</td>\n",
       "      <td>0.523220</td>\n",
       "    </tr>\n",
       "    <tr>\n",
       "      <th>1</th>\n",
       "      <td>1</td>\n",
       "      <td>0.398276</td>\n",
       "    </tr>\n",
       "    <tr>\n",
       "      <th>2</th>\n",
       "      <td>2</td>\n",
       "      <td>0.411184</td>\n",
       "    </tr>\n",
       "    <tr>\n",
       "      <th>3</th>\n",
       "      <td>3</td>\n",
       "      <td>0.569106</td>\n",
       "    </tr>\n",
       "  </tbody>\n",
       "</table>\n",
       "</div>"
      ],
      "text/plain": [
       "   cluster_num    Gender\n",
       "0            0  0.523220\n",
       "1            1  0.398276\n",
       "2            2  0.411184\n",
       "3            3  0.569106"
      ]
     },
     "execution_count": 52,
     "metadata": {},
     "output_type": "execute_result"
    }
   ],
   "source": [
    "#Gender\n",
    "df['Gender'] = LabelEncoder().fit_transform(df['Gender'])\n",
    "Gender = df.groupby('cluster_num')['Gender'].mean()\n",
    "Gender = Gender.to_frame().reset_index()\n",
    "Gender"
   ]
  },
  {
   "cell_type": "code",
   "execution_count": 53,
   "id": "28bcd19b-16e1-41b6-a445-16b8f52a817c",
   "metadata": {},
   "outputs": [
    {
     "data": {
      "text/html": [
       "<div>\n",
       "<style scoped>\n",
       "    .dataframe tbody tr th:only-of-type {\n",
       "        vertical-align: middle;\n",
       "    }\n",
       "\n",
       "    .dataframe tbody tr th {\n",
       "        vertical-align: top;\n",
       "    }\n",
       "\n",
       "    .dataframe thead th {\n",
       "        text-align: right;\n",
       "    }\n",
       "</style>\n",
       "<table border=\"1\" class=\"dataframe\">\n",
       "  <thead>\n",
       "    <tr style=\"text-align: right;\">\n",
       "      <th></th>\n",
       "      <th>cluster_num</th>\n",
       "      <th>Gender</th>\n",
       "      <th>Like</th>\n",
       "      <th>VisitFrequency</th>\n",
       "    </tr>\n",
       "  </thead>\n",
       "  <tbody>\n",
       "    <tr>\n",
       "      <th>0</th>\n",
       "      <td>0</td>\n",
       "      <td>0.523220</td>\n",
       "      <td>3.275542</td>\n",
       "      <td>2.547988</td>\n",
       "    </tr>\n",
       "    <tr>\n",
       "      <th>1</th>\n",
       "      <td>1</td>\n",
       "      <td>0.398276</td>\n",
       "      <td>2.962069</td>\n",
       "      <td>2.584483</td>\n",
       "    </tr>\n",
       "    <tr>\n",
       "      <th>2</th>\n",
       "      <td>2</td>\n",
       "      <td>0.411184</td>\n",
       "      <td>6.171053</td>\n",
       "      <td>2.822368</td>\n",
       "    </tr>\n",
       "    <tr>\n",
       "      <th>3</th>\n",
       "      <td>3</td>\n",
       "      <td>0.569106</td>\n",
       "      <td>7.422764</td>\n",
       "      <td>2.654472</td>\n",
       "    </tr>\n",
       "  </tbody>\n",
       "</table>\n",
       "</div>"
      ],
      "text/plain": [
       "   cluster_num    Gender      Like  VisitFrequency\n",
       "0            0  0.523220  3.275542        2.547988\n",
       "1            1  0.398276  2.962069        2.584483\n",
       "2            2  0.411184  6.171053        2.822368\n",
       "3            3  0.569106  7.422764        2.654472"
      ]
     },
     "execution_count": 53,
     "metadata": {},
     "output_type": "execute_result"
    }
   ],
   "source": [
    "segment = Gender.merge(Like, on='cluster_num', how='left').merge(visit, on='cluster_num', how='left')\n",
    "segment"
   ]
  },
  {
   "cell_type": "code",
   "execution_count": 54,
   "id": "05186c7e-ae82-43c1-a937-f89a8e1959f7",
   "metadata": {},
   "outputs": [
    {
     "data": {
      "image/png": "[encoded data removed]",
      "text/plain": [
       "<Figure size 504x360 with 1 Axes>"
      ]
     },
     "metadata": {
      "needs_background": "light"
     },
     "output_type": "display_data"
    }
   ],
   "source": [
    "#Target segments\n",
    "\n",
    "plt.rcParams['figure.figsize'] = (7,5)\n",
    "sns.scatterplot(x = \"VisitFrequency\", y = \"Like\",data=segment,s=400, color=\"r\")\n",
    "plt.title(\"Simple segment evaluation plot for the fast food data set \\n\",fontsize = 15) \n",
    "plt.xlabel(\"Visit\", fontsize = 15) \n",
    "plt.ylabel(\"Like\", fontsize = 15) \n",
    "plt.show()"
   ]
  },
  {
   "cell_type": "code",
   "execution_count": null,
   "id": "eb95efb6-b0e3-4e20-b781-9ce08cb5f73b",
   "metadata": {},
   "outputs": [],
   "source": []
  }
 ],
 "metadata": {
  "kernelspec": {
   "display_name": "Python 3",
   "language": "python",
   "name": "python3"
  },
  "language_info": {
   "codemirror_mode": {
    "name": "ipython",
    "version": 3
   },
   "file_extension": ".py",
   "mimetype": "text/x-python",
   "name": "python",
   "nbconvert_exporter": "python",
   "pygments_lexer": "ipython3",
   "version": "3.8.8"
  }
 },
 "nbformat": 4,
 "nbformat_minor": 5
}
